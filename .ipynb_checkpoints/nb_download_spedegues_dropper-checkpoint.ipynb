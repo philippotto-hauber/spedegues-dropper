{
 "cells": [
  {
   "cell_type": "markdown",
   "id": "e1a00d45",
   "metadata": {},
   "source": [
    "# Download Spedegue's dropper"
   ]
  },
  {
   "cell_type": "markdown",
   "id": "56998f50",
   "metadata": {},
   "source": [
    "## To Do"
   ]
  },
  {
   "cell_type": "markdown",
   "id": "417fe546",
   "metadata": {},
   "source": [
    "- make sure that pages are in correct order!\n",
    "- try and include the illustration on page 314 by resizing the image to make it conform with the other pages\n",
    "- ~~check that `imgs` directory exists~~"
   ]
  },
  {
   "cell_type": "markdown",
   "id": "dbfb1f12",
   "metadata": {},
   "source": [
    "## Libs"
   ]
  },
  {
   "cell_type": "code",
   "execution_count": 1,
   "id": "260493d7",
   "metadata": {},
   "outputs": [],
   "source": [
    "import requests\n",
    "from bs4 import BeautifulSoup\n",
    "import re\n",
    "import urllib.request\n",
    "import img2pdf\n",
    "import os"
   ]
  },
  {
   "cell_type": "markdown",
   "id": "a8575e19",
   "metadata": {},
   "source": [
    "## Paths, base url"
   ]
  },
  {
   "cell_type": "code",
   "execution_count": 2,
   "id": "4b53be75",
   "metadata": {},
   "outputs": [],
   "source": [
    "url_base = 'https://www.arthur-conan-doyle.com/'\n",
    "url_story = 'index.php/The_Story_of_Spedegue%27s_Dropper'\n",
    "path_imgs = \"./imgs\"\n",
    "if not os.path.exists(path_imgs):\n",
    "    os.makedirs(path_imgs)"
   ]
  },
  {
   "cell_type": "markdown",
   "id": "8f3ae3ed",
   "metadata": {},
   "source": [
    "## Get urls of images "
   ]
  },
  {
   "cell_type": "markdown",
   "id": "69da1e85",
   "metadata": {},
   "source": [
    "1. Get all the links to the images (i.e. files ending in `.jpg`) from story's main website"
   ]
  },
  {
   "cell_type": "code",
   "execution_count": 3,
   "id": "0ebea78a",
   "metadata": {},
   "outputs": [],
   "source": [
    "response = requests.get(url_base + url_story)\n",
    "soup = BeautifulSoup(response.text, \"html.parser\")  \n",
    "urls = []\n",
    "urls_jpg = []\n",
    "for link in soup.find_all('a'):\n",
    "\turls.append(link.get('href'))\n",
    "\tif not(link.get('href') is None):\n",
    "\t\tif re.search(r'.jpg', link.get('href')):\n",
    "\t\t\tif link.get('href') not in urls_jpg:\n",
    "\t\t\t\turls_jpg.append(url_base + link.get('href'))"
   ]
  },
  {
   "cell_type": "markdown",
   "id": "b619025e",
   "metadata": {},
   "source": [
    "2. the links obtained in 1. end in `.jpg` but do not actually lead to the images this requires another iteration, now filtering on the word `images` in the url"
   ]
  },
  {
   "cell_type": "code",
   "execution_count": 4,
   "id": "e966da82",
   "metadata": {},
   "outputs": [],
   "source": [
    "urls_jpg_img = []\n",
    "for link in urls_jpg:\n",
    "\tresponse = requests.get(link)\n",
    "\tsoup = BeautifulSoup(response.text, \"html.parser\")\n",
    "\n",
    "\tfor item in soup.find_all('a'):\n",
    "\t\tif not(item.get('href') is None):\n",
    "\t\t\tif re.search(r'.jpg', item.get('href')):\n",
    "\t\t\t\tif re.search(r'images', item.get('href')):\n",
    "\t\t\t\t\tif url_base+item.get('href') not in urls_jpg_img:\n",
    "\t\t\t\t\t\turls_jpg_img.append(url_base + item.get('href'))\n"
   ]
  },
  {
   "cell_type": "markdown",
   "id": "c43436f4",
   "metadata": {},
   "source": [
    "3. remove thumbnail images, i.e. those that contain the folder `/thumb/` in their url "
   ]
  },
  {
   "cell_type": "code",
   "execution_count": 5,
   "id": "a339d1b7",
   "metadata": {},
   "outputs": [],
   "source": [
    "urls_jpg_img_no_thumbnails = []\n",
    "for i in urls_jpg_img:\n",
    "\tif re.search(r'/thumb/', i):\n",
    "\t\tcontinue\n",
    "\turls_jpg_img_no_thumbnails.append(i)"
   ]
  },
  {
   "cell_type": "markdown",
   "id": "7f377879",
   "metadata": {},
   "source": [
    "## Download images from urls"
   ]
  },
  {
   "cell_type": "code",
   "execution_count": 6,
   "id": "9772fb04",
   "metadata": {},
   "outputs": [],
   "source": [
    "filenames = []\n",
    "for url in urls_jpg_img_no_thumbnails:\n",
    "    filename = os.path.join(path_imgs, url.split('/')[-1])\n",
    "    filenames.append(filename)\n",
    "    urllib.request.urlretrieve(url, filename)    "
   ]
  },
  {
   "cell_type": "markdown",
   "id": "b59373b6",
   "metadata": {},
   "source": [
    "## Filter and order images "
   ]
  },
  {
   "cell_type": "markdown",
   "id": "9df13ea0",
   "metadata": {},
   "source": [
    "- remove the images containing the word `illu`. These are duplicates of the illustrations on the respective page (except for the one on page 314, see below)\n",
    "- remove the image which contains the word `manuscript`. This isn't a proper page of the story, just a picture of the - you guessed it - manuscript\n",
    "- remove the introductory illustration on `p314` as both the \"normal\" page and the \"illu\" page distort the size of the remaining pages, making them much smaller than that page"
   ]
  },
  {
   "cell_type": "code",
   "execution_count": 7,
   "id": "a5812741",
   "metadata": {},
   "outputs": [],
   "source": [
    "filenames_pdf = [f for f in filenames if ('illu' not in f) & ('manuscript' not in f) & ('p314' not in f)] "
   ]
  },
  {
   "cell_type": "markdown",
   "id": "af230f08",
   "metadata": {},
   "source": [
    "Pages (luckily) already in order!"
   ]
  },
  {
   "cell_type": "code",
   "execution_count": 8,
   "id": "abfed10d",
   "metadata": {},
   "outputs": [
    {
     "data": {
      "text/plain": [
       "['./imgsThe-strand-magazine-1928-10-the-story-of-spedegue-s-dropper-p315.jpg',\n",
       " './imgsThe-strand-magazine-1928-10-the-story-of-spedegue-s-dropper-p316.jpg',\n",
       " './imgsThe-strand-magazine-1928-10-the-story-of-spedegue-s-dropper-p317.jpg',\n",
       " './imgsThe-strand-magazine-1928-10-the-story-of-spedegue-s-dropper-p318.jpg',\n",
       " './imgsThe-strand-magazine-1928-10-the-story-of-spedegue-s-dropper-p319.jpg',\n",
       " './imgsThe-strand-magazine-1928-10-the-story-of-spedegue-s-dropper-p320.jpg',\n",
       " './imgsThe-strand-magazine-1928-10-the-story-of-spedegue-s-dropper-p321.jpg',\n",
       " './imgsThe-strand-magazine-1928-10-the-story-of-spedegue-s-dropper-p322.jpg',\n",
       " './imgsThe-strand-magazine-1928-10-the-story-of-spedegue-s-dropper-p323.jpg',\n",
       " './imgsThe-strand-magazine-1928-10-the-story-of-spedegue-s-dropper-p324.jpg',\n",
       " './imgsThe-strand-magazine-1928-10-the-story-of-spedegue-s-dropper-p325.jpg']"
      ]
     },
     "execution_count": 8,
     "metadata": {},
     "output_type": "execute_result"
    }
   ],
   "source": [
    "filenames_pdf"
   ]
  },
  {
   "cell_type": "markdown",
   "id": "f341b31e",
   "metadata": {},
   "source": [
    "## Convert to pdf"
   ]
  },
  {
   "cell_type": "code",
   "execution_count": 9,
   "id": "c53dec8a",
   "metadata": {},
   "outputs": [],
   "source": [
    "with open(\"spedegues_dropper.pdf\",\"wb\") as f:\n",
    "\tf.write(img2pdf.convert(filenames_pdf))"
   ]
  }
 ],
 "metadata": {
  "kernelspec": {
   "display_name": "Python 3 (ipykernel)",
   "language": "python",
   "name": "python3"
  },
  "language_info": {
   "codemirror_mode": {
    "name": "ipython",
    "version": 3
   },
   "file_extension": ".py",
   "mimetype": "text/x-python",
   "name": "python",
   "nbconvert_exporter": "python",
   "pygments_lexer": "ipython3",
   "version": "3.9.1"
  }
 },
 "nbformat": 4,
 "nbformat_minor": 5
}
